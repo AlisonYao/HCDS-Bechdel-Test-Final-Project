{
 "cells": [
  {
   "cell_type": "code",
   "execution_count": 1,
   "metadata": {},
   "outputs": [],
   "source": [
    "import pandas as pd"
   ]
  },
  {
   "cell_type": "code",
   "execution_count": 2,
   "metadata": {},
   "outputs": [
    {
     "data": {
      "text/html": [
       "<div>\n",
       "<style scoped>\n",
       "    .dataframe tbody tr th:only-of-type {\n",
       "        vertical-align: middle;\n",
       "    }\n",
       "\n",
       "    .dataframe tbody tr th {\n",
       "        vertical-align: top;\n",
       "    }\n",
       "\n",
       "    .dataframe thead th {\n",
       "        text-align: right;\n",
       "    }\n",
       "</style>\n",
       "<table border=\"1\" class=\"dataframe\">\n",
       "  <thead>\n",
       "    <tr style=\"text-align: right;\">\n",
       "      <th></th>\n",
       "      <th>year</th>\n",
       "      <th>rating</th>\n",
       "      <th>imdbid</th>\n",
       "      <th>id</th>\n",
       "      <th>title</th>\n",
       "    </tr>\n",
       "  </thead>\n",
       "  <tbody>\n",
       "    <tr>\n",
       "      <th>0</th>\n",
       "      <td>1874</td>\n",
       "      <td>0</td>\n",
       "      <td>3155794</td>\n",
       "      <td>9602</td>\n",
       "      <td>Passage de Venus</td>\n",
       "    </tr>\n",
       "    <tr>\n",
       "      <th>1</th>\n",
       "      <td>1877</td>\n",
       "      <td>0</td>\n",
       "      <td>14495706</td>\n",
       "      <td>9804</td>\n",
       "      <td>La Rosace Magique</td>\n",
       "    </tr>\n",
       "    <tr>\n",
       "      <th>2</th>\n",
       "      <td>1878</td>\n",
       "      <td>0</td>\n",
       "      <td>2221420</td>\n",
       "      <td>9603</td>\n",
       "      <td>Sallie Gardner at a Gallop</td>\n",
       "    </tr>\n",
       "    <tr>\n",
       "      <th>3</th>\n",
       "      <td>1878</td>\n",
       "      <td>0</td>\n",
       "      <td>12592084</td>\n",
       "      <td>9806</td>\n",
       "      <td>Le singe musicien</td>\n",
       "    </tr>\n",
       "    <tr>\n",
       "      <th>4</th>\n",
       "      <td>1881</td>\n",
       "      <td>0</td>\n",
       "      <td>7816420</td>\n",
       "      <td>9816</td>\n",
       "      <td>Athlete Swinging a Pick</td>\n",
       "    </tr>\n",
       "  </tbody>\n",
       "</table>\n",
       "</div>"
      ],
      "text/plain": [
       "   year  rating    imdbid    id                       title\n",
       "0  1874       0   3155794  9602            Passage de Venus\n",
       "1  1877       0  14495706  9804           La Rosace Magique\n",
       "2  1878       0   2221420  9603  Sallie Gardner at a Gallop\n",
       "3  1878       0  12592084  9806           Le singe musicien\n",
       "4  1881       0   7816420  9816     Athlete Swinging a Pick"
      ]
     },
     "execution_count": 2,
     "metadata": {},
     "output_type": "execute_result"
    }
   ],
   "source": [
    "df = pd.read_json('http://bechdeltest.com/api/v1/getAllMovies')\n",
    "df.head()"
   ]
  },
  {
   "cell_type": "code",
   "execution_count": 3,
   "metadata": {},
   "outputs": [
    {
     "name": "stdout",
     "output_type": "stream",
     "text": [
      "<class 'pandas.core.frame.DataFrame'>\n",
      "RangeIndex: 9329 entries, 0 to 9328\n",
      "Data columns (total 5 columns):\n",
      " #   Column  Non-Null Count  Dtype \n",
      "---  ------  --------------  ----- \n",
      " 0   year    9329 non-null   int64 \n",
      " 1   rating  9329 non-null   int64 \n",
      " 2   imdbid  9329 non-null   object\n",
      " 3   id      9329 non-null   int64 \n",
      " 4   title   9329 non-null   object\n",
      "dtypes: int64(3), object(2)\n",
      "memory usage: 364.5+ KB\n"
     ]
    }
   ],
   "source": [
    "df.info()"
   ]
  },
  {
   "cell_type": "code",
   "execution_count": null,
   "metadata": {},
   "outputs": [],
   "source": [
    "# save dataframe to a csv file\n",
    "df.to_csv('Bechdel.csv')"
   ]
  },
  {
   "cell_type": "code",
   "execution_count": 5,
   "metadata": {},
   "outputs": [
    {
     "data": {
      "text/plain": [
       "id                            9602\n",
       "visible                          1\n",
       "title             Passage de Venus\n",
       "year                          1874\n",
       "imdbid                     3155794\n",
       "submitterid                  18880\n",
       "dubious                          0\n",
       "date           2021-04-02 20:58:09\n",
       "rating                           0\n",
       "dtype: object"
      ]
     },
     "execution_count": 5,
     "metadata": {},
     "output_type": "execute_result"
    }
   ],
   "source": [
    "df2 = pd.read_json('http://bechdeltest.com/api/v1/getMovieByImdbId?imdbid=3155794', typ='series')\n",
    "df2"
   ]
  },
  {
   "cell_type": "markdown",
   "metadata": {},
   "source": []
  },
  {
   "cell_type": "markdown",
   "metadata": {},
   "source": []
  }
 ],
 "metadata": {
  "interpreter": {
   "hash": "c2af661dfde0ec8c5a02714854a37f3c65c89f42c889f3c328b8a95cd0a9cdfa"
  },
  "kernelspec": {
   "display_name": "Python 3.7.0 64-bit ('ds': conda)",
   "name": "python3"
  },
  "language_info": {
   "codemirror_mode": {
    "name": "ipython",
    "version": 3
   },
   "file_extension": ".py",
   "mimetype": "text/x-python",
   "name": "python",
   "nbconvert_exporter": "python",
   "pygments_lexer": "ipython3",
   "version": "3.7.0"
  },
  "orig_nbformat": 4
 },
 "nbformat": 4,
 "nbformat_minor": 2
}
