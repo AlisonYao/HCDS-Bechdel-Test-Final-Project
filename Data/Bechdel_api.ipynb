{
 "cells": [
  {
   "cell_type": "markdown",
   "metadata": {},
   "source": [
    "First updated @ Oct 31, 2021      Happy Halloween👻\n",
    "\n",
    "Last updated @ Nov 2, 2021"
   ]
  },
  {
   "cell_type": "code",
   "execution_count": 2,
   "metadata": {},
   "outputs": [],
   "source": [
    "# import library\n",
    "import pandas as pd"
   ]
  },
  {
   "cell_type": "markdown",
   "metadata": {},
   "source": [
    "## Read all movies\n",
    "\n",
    "- get the full movie list and the imdbid"
   ]
  },
  {
   "cell_type": "code",
   "execution_count": 57,
   "metadata": {},
   "outputs": [],
   "source": [
    "df = pd.read_json('http://bechdeltest.com/api/v1/getAllMovies')"
   ]
  },
  {
   "cell_type": "code",
   "execution_count": 58,
   "metadata": {},
   "outputs": [
    {
     "data": {
      "text/html": [
       "<div>\n",
       "<style scoped>\n",
       "    .dataframe tbody tr th:only-of-type {\n",
       "        vertical-align: middle;\n",
       "    }\n",
       "\n",
       "    .dataframe tbody tr th {\n",
       "        vertical-align: top;\n",
       "    }\n",
       "\n",
       "    .dataframe thead th {\n",
       "        text-align: right;\n",
       "    }\n",
       "</style>\n",
       "<table border=\"1\" class=\"dataframe\">\n",
       "  <thead>\n",
       "    <tr style=\"text-align: right;\">\n",
       "      <th></th>\n",
       "      <th>year</th>\n",
       "      <th>imdbid</th>\n",
       "      <th>title</th>\n",
       "      <th>rating</th>\n",
       "      <th>id</th>\n",
       "    </tr>\n",
       "  </thead>\n",
       "  <tbody>\n",
       "    <tr>\n",
       "      <th>9324</th>\n",
       "      <td>2021</td>\n",
       "      <td>9421570</td>\n",
       "      <td>Guilty, The</td>\n",
       "      <td>1</td>\n",
       "      <td>10079</td>\n",
       "    </tr>\n",
       "    <tr>\n",
       "      <th>9325</th>\n",
       "      <td>2021</td>\n",
       "      <td>11804152</td>\n",
       "      <td>Till Death</td>\n",
       "      <td>0</td>\n",
       "      <td>10083</td>\n",
       "    </tr>\n",
       "    <tr>\n",
       "      <th>9326</th>\n",
       "      <td>2021</td>\n",
       "      <td>4244994</td>\n",
       "      <td>Last Duel, The</td>\n",
       "      <td>3</td>\n",
       "      <td>10085</td>\n",
       "    </tr>\n",
       "    <tr>\n",
       "      <th>9327</th>\n",
       "      <td>2021</td>\n",
       "      <td>7097896</td>\n",
       "      <td>Venom Let there be Carnage</td>\n",
       "      <td>2</td>\n",
       "      <td>10092</td>\n",
       "    </tr>\n",
       "    <tr>\n",
       "      <th>9328</th>\n",
       "      <td>2021</td>\n",
       "      <td>2452150</td>\n",
       "      <td>Respect</td>\n",
       "      <td>3</td>\n",
       "      <td>10106</td>\n",
       "    </tr>\n",
       "  </tbody>\n",
       "</table>\n",
       "</div>"
      ],
      "text/plain": [
       "      year    imdbid                       title  rating     id\n",
       "9324  2021   9421570                 Guilty, The       1  10079\n",
       "9325  2021  11804152                  Till Death       0  10083\n",
       "9326  2021   4244994              Last Duel, The       3  10085\n",
       "9327  2021   7097896  Venom Let there be Carnage       2  10092\n",
       "9328  2021   2452150                     Respect       3  10106"
      ]
     },
     "execution_count": 58,
     "metadata": {},
     "output_type": "execute_result"
    }
   ],
   "source": [
    "df.tail()"
   ]
  },
  {
   "cell_type": "code",
   "execution_count": 43,
   "metadata": {},
   "outputs": [
    {
     "name": "stdout",
     "output_type": "stream",
     "text": [
      "<class 'pandas.core.frame.DataFrame'>\n",
      "RangeIndex: 9329 entries, 0 to 9328\n",
      "Data columns (total 5 columns):\n",
      " #   Column  Non-Null Count  Dtype \n",
      "---  ------  --------------  ----- \n",
      " 0   imdbid  9329 non-null   object\n",
      " 1   rating  9329 non-null   int64 \n",
      " 2   id      9329 non-null   int64 \n",
      " 3   year    9329 non-null   int64 \n",
      " 4   title   9329 non-null   object\n",
      "dtypes: int64(3), object(2)\n",
      "memory usage: 364.5+ KB\n"
     ]
    }
   ],
   "source": [
    "df.info()"
   ]
  },
  {
   "cell_type": "code",
   "execution_count": 44,
   "metadata": {},
   "outputs": [],
   "source": [
    "# save dataframe to a csv file\n",
    "df.to_csv('Bechdel.csv')"
   ]
  },
  {
   "cell_type": "markdown",
   "metadata": {},
   "source": [
    "## Get movie by imdbid\n",
    "\n",
    "- then loop through the imdbid in the previous dataframe to get each movie info\n",
    "- create a new dataframe and output the newer csv file\n",
    "\n",
    "Note: The website is fragile and you may experience timeout error. Make sure to save dataframe to csv so that you don't lose everything."
   ]
  },
  {
   "cell_type": "code",
   "execution_count": 59,
   "metadata": {},
   "outputs": [
    {
     "data": {
      "text/html": [
       "<div>\n",
       "<style scoped>\n",
       "    .dataframe tbody tr th:only-of-type {\n",
       "        vertical-align: middle;\n",
       "    }\n",
       "\n",
       "    .dataframe tbody tr th {\n",
       "        vertical-align: top;\n",
       "    }\n",
       "\n",
       "    .dataframe thead th {\n",
       "        text-align: right;\n",
       "    }\n",
       "</style>\n",
       "<table border=\"1\" class=\"dataframe\">\n",
       "  <thead>\n",
       "    <tr style=\"text-align: right;\">\n",
       "      <th></th>\n",
       "      <th>title</th>\n",
       "      <th>year</th>\n",
       "      <th>rating</th>\n",
       "      <th>dubious</th>\n",
       "      <th>imdbid</th>\n",
       "      <th>id</th>\n",
       "      <th>submitterid</th>\n",
       "      <th>date</th>\n",
       "      <th>visible</th>\n",
       "    </tr>\n",
       "  </thead>\n",
       "  <tbody>\n",
       "  </tbody>\n",
       "</table>\n",
       "</div>"
      ],
      "text/plain": [
       "Empty DataFrame\n",
       "Columns: [title, year, rating, dubious, imdbid, id, submitterid, date, visible]\n",
       "Index: []"
      ]
     },
     "execution_count": 59,
     "metadata": {},
     "output_type": "execute_result"
    }
   ],
   "source": [
    "# create an empty dataframe\n",
    "df_new = pd.DataFrame(columns=['title', 'year', 'rating', 'dubious', 'imdbid', 'id', 'submitterid', 'date', 'visible'])\n",
    "df_new"
   ]
  },
  {
   "cell_type": "code",
   "execution_count": 71,
   "metadata": {},
   "outputs": [],
   "source": [
    "count = 1\n",
    "\n",
    "# call from the latest to the earliest movie, in case the website crashes\n",
    "for imdbid in df['imdbid'][-1::-1]:\n",
    "    series = pd.read_json('http://bechdeltest.com/api/v1/getMovieByImdbId?imdbid=' + str(imdbid), typ='series')\n",
    "    # print(series)\n",
    "    df_new = df_new.append(series, ignore_index=True)\n",
    "    # every 10 movies, we save to a csv file, \n",
    "    # so that we wouldn't lose everything when there is an error\n",
    "    if count % 10 == 0:\n",
    "        df_new.to_csv('Bechdel_detailed_reversed.csv')\n",
    "    count += 1\n",
    "df_new.to_csv('Bechdel_detailed_reversed.csv')"
   ]
  },
  {
   "cell_type": "markdown",
   "metadata": {},
   "source": [
    "This took about 7 hours to execute"
   ]
  },
  {
   "cell_type": "code",
   "execution_count": null,
   "metadata": {},
   "outputs": [],
   "source": [
    "# reverse \n",
    "df_new = df_new.iloc[::-1].reset_index(drop=True)\n",
    "df_new.to_csv('Bechdel_detailed.csv', index=False)"
   ]
  },
  {
   "cell_type": "markdown",
   "metadata": {},
   "source": [
    "## Check data integrity\n",
    "\n",
    "- check duplicates\n",
    "- check row numbers\n",
    "- check index"
   ]
  },
  {
   "cell_type": "code",
   "execution_count": 12,
   "metadata": {},
   "outputs": [
    {
     "data": {
      "text/html": [
       "<div>\n",
       "<style scoped>\n",
       "    .dataframe tbody tr th:only-of-type {\n",
       "        vertical-align: middle;\n",
       "    }\n",
       "\n",
       "    .dataframe tbody tr th {\n",
       "        vertical-align: top;\n",
       "    }\n",
       "\n",
       "    .dataframe thead th {\n",
       "        text-align: right;\n",
       "    }\n",
       "</style>\n",
       "<table border=\"1\" class=\"dataframe\">\n",
       "  <thead>\n",
       "    <tr style=\"text-align: right;\">\n",
       "      <th></th>\n",
       "      <th>title</th>\n",
       "      <th>year</th>\n",
       "      <th>rating</th>\n",
       "      <th>dubious</th>\n",
       "      <th>imdbid</th>\n",
       "      <th>id</th>\n",
       "      <th>submitterid</th>\n",
       "      <th>date</th>\n",
       "      <th>visible</th>\n",
       "    </tr>\n",
       "  </thead>\n",
       "  <tbody>\n",
       "    <tr>\n",
       "      <th>0</th>\n",
       "      <td>Passage de Venus</td>\n",
       "      <td>1874.0</td>\n",
       "      <td>0.0</td>\n",
       "      <td>0.0</td>\n",
       "      <td>3155794.0</td>\n",
       "      <td>9602.0</td>\n",
       "      <td>18880.0</td>\n",
       "      <td>2021-04-02 20:58:09</td>\n",
       "      <td>1.0</td>\n",
       "    </tr>\n",
       "    <tr>\n",
       "      <th>1</th>\n",
       "      <td>La Rosace Magique</td>\n",
       "      <td>1877.0</td>\n",
       "      <td>0.0</td>\n",
       "      <td>0.0</td>\n",
       "      <td>14495706.0</td>\n",
       "      <td>9804.0</td>\n",
       "      <td>19145.0</td>\n",
       "      <td>2021-05-11 00:11:22</td>\n",
       "      <td>1.0</td>\n",
       "    </tr>\n",
       "    <tr>\n",
       "      <th>2</th>\n",
       "      <td>Sallie Gardner at a Gallop</td>\n",
       "      <td>1878.0</td>\n",
       "      <td>0.0</td>\n",
       "      <td>0.0</td>\n",
       "      <td>2221420.0</td>\n",
       "      <td>9603.0</td>\n",
       "      <td>18882.0</td>\n",
       "      <td>2021-04-03 02:25:27</td>\n",
       "      <td>1.0</td>\n",
       "    </tr>\n",
       "    <tr>\n",
       "      <th>3</th>\n",
       "      <td>Le singe musicien</td>\n",
       "      <td>1878.0</td>\n",
       "      <td>0.0</td>\n",
       "      <td>0.0</td>\n",
       "      <td>12592084.0</td>\n",
       "      <td>9806.0</td>\n",
       "      <td>19151.0</td>\n",
       "      <td>2021-05-11 23:38:54</td>\n",
       "      <td>1.0</td>\n",
       "    </tr>\n",
       "    <tr>\n",
       "      <th>4</th>\n",
       "      <td>Athlete Swinging a Pick</td>\n",
       "      <td>1881.0</td>\n",
       "      <td>0.0</td>\n",
       "      <td>0.0</td>\n",
       "      <td>7816420.0</td>\n",
       "      <td>9816.0</td>\n",
       "      <td>19162.0</td>\n",
       "      <td>2021-05-13 01:32:14</td>\n",
       "      <td>1.0</td>\n",
       "    </tr>\n",
       "    <tr>\n",
       "      <th>...</th>\n",
       "      <td>...</td>\n",
       "      <td>...</td>\n",
       "      <td>...</td>\n",
       "      <td>...</td>\n",
       "      <td>...</td>\n",
       "      <td>...</td>\n",
       "      <td>...</td>\n",
       "      <td>...</td>\n",
       "      <td>...</td>\n",
       "    </tr>\n",
       "    <tr>\n",
       "      <th>9324</th>\n",
       "      <td>Guilty, The</td>\n",
       "      <td>2021.0</td>\n",
       "      <td>1.0</td>\n",
       "      <td>0.0</td>\n",
       "      <td>9421570.0</td>\n",
       "      <td>10079.0</td>\n",
       "      <td>19599.0</td>\n",
       "      <td>2021-10-10 20:16:13</td>\n",
       "      <td>1.0</td>\n",
       "    </tr>\n",
       "    <tr>\n",
       "      <th>9325</th>\n",
       "      <td>Till Death</td>\n",
       "      <td>2021.0</td>\n",
       "      <td>0.0</td>\n",
       "      <td>0.0</td>\n",
       "      <td>11804152.0</td>\n",
       "      <td>10083.0</td>\n",
       "      <td>19613.0</td>\n",
       "      <td>2021-10-18 19:58:48</td>\n",
       "      <td>1.0</td>\n",
       "    </tr>\n",
       "    <tr>\n",
       "      <th>9326</th>\n",
       "      <td>Last Duel, The</td>\n",
       "      <td>2021.0</td>\n",
       "      <td>3.0</td>\n",
       "      <td>1.0</td>\n",
       "      <td>4244994.0</td>\n",
       "      <td>10085.0</td>\n",
       "      <td>19619.0</td>\n",
       "      <td>2021-10-20 02:30:29</td>\n",
       "      <td>1.0</td>\n",
       "    </tr>\n",
       "    <tr>\n",
       "      <th>9327</th>\n",
       "      <td>Venom Let there be Carnage</td>\n",
       "      <td>2021.0</td>\n",
       "      <td>2.0</td>\n",
       "      <td>0.0</td>\n",
       "      <td>7097896.0</td>\n",
       "      <td>10092.0</td>\n",
       "      <td>19627.0</td>\n",
       "      <td>2021-10-21 10:11:03</td>\n",
       "      <td>1.0</td>\n",
       "    </tr>\n",
       "    <tr>\n",
       "      <th>9328</th>\n",
       "      <td>Respect</td>\n",
       "      <td>2021.0</td>\n",
       "      <td>3.0</td>\n",
       "      <td>0.0</td>\n",
       "      <td>2452150.0</td>\n",
       "      <td>10106.0</td>\n",
       "      <td>19654.0</td>\n",
       "      <td>2021-10-24 21:14:06</td>\n",
       "      <td>1.0</td>\n",
       "    </tr>\n",
       "  </tbody>\n",
       "</table>\n",
       "<p>9329 rows × 9 columns</p>\n",
       "</div>"
      ],
      "text/plain": [
       "                           title    year  rating  dubious      imdbid  \\\n",
       "0               Passage de Venus  1874.0     0.0      0.0   3155794.0   \n",
       "1              La Rosace Magique  1877.0     0.0      0.0  14495706.0   \n",
       "2     Sallie Gardner at a Gallop  1878.0     0.0      0.0   2221420.0   \n",
       "3              Le singe musicien  1878.0     0.0      0.0  12592084.0   \n",
       "4        Athlete Swinging a Pick  1881.0     0.0      0.0   7816420.0   \n",
       "...                          ...     ...     ...      ...         ...   \n",
       "9324                 Guilty, The  2021.0     1.0      0.0   9421570.0   \n",
       "9325                  Till Death  2021.0     0.0      0.0  11804152.0   \n",
       "9326              Last Duel, The  2021.0     3.0      1.0   4244994.0   \n",
       "9327  Venom Let there be Carnage  2021.0     2.0      0.0   7097896.0   \n",
       "9328                     Respect  2021.0     3.0      0.0   2452150.0   \n",
       "\n",
       "           id  submitterid                 date  visible  \n",
       "0      9602.0      18880.0  2021-04-02 20:58:09      1.0  \n",
       "1      9804.0      19145.0  2021-05-11 00:11:22      1.0  \n",
       "2      9603.0      18882.0  2021-04-03 02:25:27      1.0  \n",
       "3      9806.0      19151.0  2021-05-11 23:38:54      1.0  \n",
       "4      9816.0      19162.0  2021-05-13 01:32:14      1.0  \n",
       "...       ...          ...                  ...      ...  \n",
       "9324  10079.0      19599.0  2021-10-10 20:16:13      1.0  \n",
       "9325  10083.0      19613.0  2021-10-18 19:58:48      1.0  \n",
       "9326  10085.0      19619.0  2021-10-20 02:30:29      1.0  \n",
       "9327  10092.0      19627.0  2021-10-21 10:11:03      1.0  \n",
       "9328  10106.0      19654.0  2021-10-24 21:14:06      1.0  \n",
       "\n",
       "[9329 rows x 9 columns]"
      ]
     },
     "execution_count": 12,
     "metadata": {},
     "output_type": "execute_result"
    }
   ],
   "source": [
    "df = pd.read_csv('./Bechdel.csv', index_col=0)\n",
    "df_to_check = pd.read_csv('./Bechdel_detailed.csv')\n",
    "df_to_check"
   ]
  },
  {
   "cell_type": "code",
   "execution_count": 13,
   "metadata": {},
   "outputs": [],
   "source": [
    "def check_dataset(df_to_check):\n",
    "    lengthFlag = len(df_to_check) == len(df)\n",
    "    print(f'Same number of rows? {lengthFlag}, should be {len(df)} movies, got {len(df_to_check)} movies')\n",
    "    if lengthFlag:\n",
    "        movieFlag = True\n",
    "        for i in range(len(df)):\n",
    "            if df['imdbid'].iloc[i] != df_to_check['imdbid'].iloc[i]:\n",
    "                print(i, df['imdbid'].iloc[i], df_to_check['imdbid'].iloc[i])\n",
    "                movieFlag = False\n",
    "                break\n",
    "        print(f'Same movies? {movieFlag}')\n",
    "    else:\n",
    "        print(f'Same movies? False')"
   ]
  },
  {
   "cell_type": "code",
   "execution_count": 14,
   "metadata": {},
   "outputs": [
    {
     "name": "stdout",
     "output_type": "stream",
     "text": [
      "Same number of rows? True, should be 9329 movies, got 9329 movies\n",
      "Same movies? True\n"
     ]
    }
   ],
   "source": [
    "# check integrity and fail\n",
    "check_dataset(df_to_check)"
   ]
  },
  {
   "cell_type": "code",
   "execution_count": null,
   "metadata": {},
   "outputs": [],
   "source": []
  }
 ],
 "metadata": {
  "interpreter": {
   "hash": "c2af661dfde0ec8c5a02714854a37f3c65c89f42c889f3c328b8a95cd0a9cdfa"
  },
  "kernelspec": {
   "display_name": "Python 3.7.0 64-bit ('ds': conda)",
   "name": "python3"
  },
  "language_info": {
   "codemirror_mode": {
    "name": "ipython",
    "version": 3
   },
   "file_extension": ".py",
   "mimetype": "text/x-python",
   "name": "python",
   "nbconvert_exporter": "python",
   "pygments_lexer": "ipython3",
   "version": "3.7.0"
  },
  "orig_nbformat": 4
 },
 "nbformat": 4,
 "nbformat_minor": 2
}
