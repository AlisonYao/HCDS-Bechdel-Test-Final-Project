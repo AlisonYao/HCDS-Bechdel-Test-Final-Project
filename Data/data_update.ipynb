{
 "cells": [
  {
   "cell_type": "markdown",
   "metadata": {},
   "source": [
    "Since the original Bechdel website updates very regularly, I wonder if there is a way for me to add the new movies to Kaggle and keep the dataset on Kaggle updated as well. \n",
    "\n",
    "I want to UPDATE the dataset, instead of run `bechdel_api.ipynb` again and risk crashing the website. "
   ]
  },
  {
   "cell_type": "code",
   "execution_count": 2,
   "metadata": {},
   "outputs": [],
   "source": [
    "import pandas as pd"
   ]
  },
  {
   "cell_type": "markdown",
   "metadata": {},
   "source": [
    "# Load Datasets & Check Updates"
   ]
  },
  {
   "cell_type": "code",
   "execution_count": 3,
   "metadata": {},
   "outputs": [
    {
     "name": "stdout",
     "output_type": "stream",
     "text": [
      "<class 'pandas.core.frame.DataFrame'>\n",
      "RangeIndex: 9329 entries, 0 to 9328\n",
      "Data columns (total 9 columns):\n",
      " #   Column       Non-Null Count  Dtype  \n",
      "---  ------       --------------  -----  \n",
      " 0   title        9329 non-null   object \n",
      " 1   year         9329 non-null   float64\n",
      " 2   rating       9329 non-null   float64\n",
      " 3   dubious      9030 non-null   float64\n",
      " 4   imdbid       9329 non-null   float64\n",
      " 5   id           9329 non-null   float64\n",
      " 6   submitterid  9329 non-null   float64\n",
      " 7   date         9329 non-null   object \n",
      " 8   visible      9329 non-null   float64\n",
      "dtypes: float64(7), object(2)\n",
      "memory usage: 656.1+ KB\n"
     ]
    }
   ],
   "source": [
    "# Check the movie list we have now\n",
    "current_movie_list = pd.read_csv('../Data/Bechdel_detailed.csv')\n",
    "current_movie_list.info()"
   ]
  },
  {
   "cell_type": "code",
   "execution_count": 5,
   "metadata": {},
   "outputs": [
    {
     "name": "stdout",
     "output_type": "stream",
     "text": [
      "<class 'pandas.core.frame.DataFrame'>\n",
      "RangeIndex: 9373 entries, 0 to 9372\n",
      "Data columns (total 5 columns):\n",
      " #   Column  Non-Null Count  Dtype \n",
      "---  ------  --------------  ----- \n",
      " 0   year    9373 non-null   int64 \n",
      " 1   id      9373 non-null   int64 \n",
      " 2   rating  9373 non-null   int64 \n",
      " 3   title   9373 non-null   object\n",
      " 4   imdbid  9373 non-null   object\n",
      "dtypes: int64(3), object(2)\n",
      "memory usage: 366.3+ KB\n"
     ]
    }
   ],
   "source": [
    "# Get the latest movie list from the Bechdel website\n",
    "latest_full_movie_list = pd.read_json('http://bechdeltest.com/api/v1/getAllMovies')\n",
    "latest_full_movie_list.info()"
   ]
  },
  {
   "cell_type": "code",
   "execution_count": 8,
   "metadata": {},
   "outputs": [
    {
     "name": "stdout",
     "output_type": "stream",
     "text": [
      "Time to update Kaggle dataset? True\n"
     ]
    }
   ],
   "source": [
    "print('Time to update Kaggle dataset?', not (len(current_movie_list)==len(latest_full_movie_list)))"
   ]
  },
  {
   "cell_type": "markdown",
   "metadata": {},
   "source": [
    "# Update to the latest dataset\n",
    "\n",
    "What needs to be updated?\n",
    "\n",
    "- New movies for sure\n",
    "- Dubious movies might not be dubious anymore"
   ]
  },
  {
   "cell_type": "code",
   "execution_count": null,
   "metadata": {},
   "outputs": [],
   "source": []
  }
 ],
 "metadata": {
  "interpreter": {
   "hash": "c2af661dfde0ec8c5a02714854a37f3c65c89f42c889f3c328b8a95cd0a9cdfa"
  },
  "kernelspec": {
   "display_name": "Python 3.7.0 64-bit ('ds': conda)",
   "language": "python",
   "name": "python3"
  },
  "language_info": {
   "codemirror_mode": {
    "name": "ipython",
    "version": 3
   },
   "file_extension": ".py",
   "mimetype": "text/x-python",
   "name": "python",
   "nbconvert_exporter": "python",
   "pygments_lexer": "ipython3",
   "version": "3.7.0"
  },
  "orig_nbformat": 4
 },
 "nbformat": 4,
 "nbformat_minor": 2
}
